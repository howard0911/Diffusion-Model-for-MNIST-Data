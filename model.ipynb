{
 "cells": [
  {
   "cell_type": "markdown",
   "metadata": {
    "id": "1935f76e"
   },
   "source": [
    "# Diffusion Model for MNIST Data"
   ]
  },
  {
   "cell_type": "markdown",
   "metadata": {
    "id": "f08c687a"
   },
   "source": [
    "### Needed Packages"
   ]
  },
  {
   "cell_type": "code",
   "execution_count": 4,
   "metadata": {
    "id": "2317eb61"
   },
   "outputs": [],
   "source": [
    "import numpy as np\n",
    "import matplotlib.pyplot as plt\n",
    "from scipy.linalg import sqrtm\n",
    "# Torch functions\n",
    "import torch\n",
    "import torch.nn as nn\n",
    "import torch.optim as optim\n",
    "from torch.utils.data import DataLoader, TensorDataset\n",
    "\n",
    "import warnings\n",
    "warnings.filterwarnings('ignore')"
   ]
  },
  {
   "cell_type": "code",
   "execution_count": 5,
   "metadata": {
    "colab": {
     "base_uri": "https://localhost:8080/"
    },
    "id": "GMtYWTrKsUwW",
    "outputId": "ba13fe3d-db7f-4393-d13d-e7d9cc4775d1"
   },
   "outputs": [
    {
     "data": {
      "text/plain": [
       "device(type='cpu')"
      ]
     },
     "execution_count": 5,
     "metadata": {},
     "output_type": "execute_result"
    }
   ],
   "source": [
    "# let it use cuda if possible\n",
    "device = torch.device(\"cuda:0\" if torch.cuda.is_available() else \"cpu\")\n",
    "device"
   ]
  },
  {
   "cell_type": "markdown",
   "metadata": {},
   "source": [
    "# Part 1\n",
    "\n",
    "We will start working with the loss for conditional mean."
   ]
  },
  {
   "cell_type": "markdown",
   "metadata": {
    "id": "JdHC2bWUS2_C"
   },
   "source": [
    "## 1. (a) Define a Gaussian random features for encoding time steps and fully connected layer"
   ]
  },
  {
   "cell_type": "code",
   "execution_count": 7,
   "metadata": {
    "id": "YyQtV7155Nht"
   },
   "outputs": [],
   "source": [
    "class GaussianFourierProjection(nn.Module):\n",
    "# Gaussian random features for encoding time steps.\n",
    "    def __init__(self, embed_dim, scale=30.):\n",
    "        super().__init__()\n",
    "        # Randomly sample weights during initialization. These weights are fixed\n",
    "        # during optimization and are not trainable.\n",
    "        self.W = nn.Parameter(torch.randn(embed_dim // 2) * scale, requires_grad=False)\n",
    "    def forward(self, x):\n",
    "        x_proj = x * self.W * 2 * np.pi\n",
    "        return torch.cat([torch.sin(x_proj), torch.cos(x_proj)], dim=-1)\n",
    "\n",
    "\n",
    "class Dense(nn.Module):\n",
    "# A fully connected layer that reshapes outputs to feature maps.\n",
    "    def __init__(self, input_dim, output_dim):\n",
    "        super().__init__()\n",
    "        self.dense = nn.Linear(input_dim, output_dim)\n",
    "    def forward(self, x):\n",
    "        return self.dense(x)[..., None, None]"
   ]
  },
  {
   "cell_type": "markdown",
   "metadata": {
    "id": "QBGzdiOo3iiB"
   },
   "source": [
    "- GaussianFourierProjection:\n",
    "\n",
    "This module generates Gaussian random features for encoding time steps. It projects the time t onto a higher-dimensional space using sinusoidal functions. The scale parameter controls the spread of these features."
   ]
  },
  {
   "cell_type": "markdown",
   "metadata": {
    "id": "xIDyAlSB5INw"
   },
   "source": [
    "## 1. (b) Define the Unet model for diffusion model"
   ]
  },
  {
   "cell_type": "code",
   "execution_count": 6,
   "metadata": {
    "id": "oTBX19383Lou"
   },
   "outputs": [],
   "source": [
    "class ScoreNet(nn.Module):\n",
    "# A time-dependent score-based model with conditional mean computation.\n",
    "\n",
    "    def __init__(self, channels=[32, 64, 128, 256], embed_dim=256, group_num=4):\n",
    "\n",
    "        super().__init__()\n",
    "\n",
    "        self.embed = nn.Sequential(GaussianFourierProjection(embed_dim=embed_dim),\n",
    "             nn.Linear(embed_dim, embed_dim))\n",
    "\n",
    "        self.conv1 = nn.Conv2d(1, channels[0], 3, stride=1, bias=False)\n",
    "        self.dense1 = Dense(embed_dim, channels[0])\n",
    "        self.gnorm1 = nn.GroupNorm(group_num, num_channels=channels[0])\n",
    "        self.conv2 = nn.Conv2d(channels[0], channels[1], 3, stride=2, bias=False)\n",
    "        self.dense2 = Dense(embed_dim, channels[1])\n",
    "        self.gnorm2 = nn.GroupNorm(group_num, num_channels=channels[1])\n",
    "        self.conv3 = nn.Conv2d(channels[1], channels[2], 3, stride=2, bias=False)\n",
    "        self.dense3 = Dense(embed_dim, channels[2])\n",
    "        self.gnorm3 = nn.GroupNorm(group_num, num_channels=channels[2])\n",
    "\n",
    "        self.conv4 = nn.Conv2d(channels[2], channels[3], 3, stride=2, bias=False)\n",
    "        self.dense4 = Dense(embed_dim, channels[3])\n",
    "        self.gnorm4 = nn.GroupNorm(group_num, num_channels=channels[3])\n",
    "        self.tconv4 = nn.ConvTranspose2d(channels[3], channels[2], 3, stride=2, bias=False)\n",
    "        self.dense5 = Dense(embed_dim, channels[2])\n",
    "        self.tgnorm4 = nn.GroupNorm(group_num, num_channels=channels[2])\n",
    "        self.tconv3 = nn.ConvTranspose2d(channels[2] + channels[2], channels[1], 3, stride=2, bias=False, output_padding=1)\n",
    "        self.dense6 = Dense(embed_dim, channels[1])\n",
    "        self.tgnorm3 = nn.GroupNorm(group_num, num_channels=channels[1])\n",
    "        self.tconv2 = nn.ConvTranspose2d(channels[1] + channels[1], channels[0], 3, stride=2, bias=False, output_padding=1)\n",
    "        self.dense7 = Dense(embed_dim, channels[0])\n",
    "        self.tgnorm2 = nn.GroupNorm(group_num, num_channels=channels[0])\n",
    "        self.tconv1 = nn.ConvTranspose2d(channels[0] + channels[0], 1, 3, stride=1)\n",
    "\n",
    "        # The swish activation function\n",
    "        self.act = lambda x: x * torch.sigmoid(x)\n",
    "\n",
    "        # Parameters for conditional mean computation\n",
    "        self.rho0 = nn.Parameter(torch.tensor(1.0), requires_grad=True)\n",
    "        self.rho1 = nn.Parameter(torch.tensor(1.0), requires_grad=True)\n",
    "\n",
    "    def forward(self, x, t):\n",
    "\n",
    "        embed = self.act(self.embed(t))\n",
    "\n",
    "        h1 = self.conv1(x)\n",
    "        h1 += self.dense1(embed)\n",
    "        h1 = self.gnorm1(h1)\n",
    "        h1 = self.act(h1)\n",
    "        h2 = self.conv2(h1)\n",
    "        h2 += self.dense2(embed)\n",
    "        h2 = self.gnorm2(h2)\n",
    "        h2 = self.act(h2)\n",
    "        h3 = self.conv3(h2)\n",
    "        h3 += self.dense3(embed)\n",
    "        h3 = self.gnorm3(h3)\n",
    "        h3 = self.act(h3)\n",
    "        h4 = self.conv4(h3)\n",
    "        h4 += self.dense4(embed)\n",
    "        h4 = self.gnorm4(h4)\n",
    "        h4 = self.act(h4)\n",
    "\n",
    "        h = self.tconv4(h4)\n",
    "        h += self.dense5(embed)\n",
    "        h = self.tgnorm4(h)\n",
    "        h = self.act(h)\n",
    "        h = self.tconv3(torch.cat([h, h3], dim=1))\n",
    "        h += self.dense6(embed)\n",
    "        h = self.tgnorm3(h)\n",
    "        h = self.act(h)\n",
    "        h = self.tconv2(torch.cat([h, h2], dim=1))\n",
    "        h += self.dense7(embed)\n",
    "        h = self.tgnorm2(h)\n",
    "        h = self.act(h)\n",
    "        h = self.tconv1(torch.cat([h, h1], dim=1))\n",
    "\n",
    "        # Compute conditional mean μ(x, t; θ)\n",
    "        mean = self.rho0 * (x - self.rho1 * h)\n",
    "\n",
    "        return mean"
   ]
  },
  {
   "cell_type": "markdown",
   "metadata": {},
   "source": [
    "- ScoreNet:\n",
    "\n",
    "This class defines the main network architecture. The input x is processed through convolutional layers, with each layer progressively extracting higher-level features.\n",
    "\n",
    "The input t is also passed through the GaussianFourierProjection module to obtain time-dependent embeddings. These time-dependent embeddings are then combined with the feature maps at each stage of the network.\n",
    "\n",
    "The feature maps are processed through convolutional layers (conv) and combined with the corresponding time-dependent embeddings (dense).\n",
    "\n",
    "Group normalization (gnorm) is applied after each convolutional layer followed by an activation function (swish).\n",
    "\n",
    "The network then undergoes transpose convolution (tconv) to upsample the feature maps back to the original input size.\n",
    "\n",
    "At each stage of transpose convolution, the corresponding time-dependent embedding is again combined with the feature maps.\n",
    "\n",
    "Finally, the output is obtained after the last convolutional layer.\n",
    "\n",
    "- Time Dependency:\n",
    "\n",
    "The time parameter t affects the output through its influence on the embeddings generated by the GaussianFourierProjection module.\n",
    "\n",
    "These embeddings are added to the feature maps at each stage of the network, effectively injecting time-dependent information into the network's computation.\n",
    "\n",
    "This allows the model to adapt its denoising process based on the current time step, enabling dynamic behavior over time."
   ]
  },
  {
   "cell_type": "markdown",
   "metadata": {
    "id": "SpttWOAF6L3l"
   },
   "source": [
    "## 1. (c) Define a diffusion model"
   ]
  },
  {
   "cell_type": "code",
   "execution_count": 12,
   "metadata": {
    "id": "8uDJTiYC6NYI"
   },
   "outputs": [],
   "source": [
    "class Diffusion(nn.Module):\n",
    "    def __init__(self, model, n_steps, device, min_beta, max_beta):\n",
    "        super().__init__()\n",
    "        self.model = model\n",
    "        self.n_steps = n_steps\n",
    "        self.device = device\n",
    "        self.min_beta = min_beta\n",
    "        self.max_beta = max_beta\n",
    "\n",
    "        # Initialize beta, alpha, and alpha bar\n",
    "        self.beta = torch.linspace(min_beta, max_beta, n_steps, dtype=torch.float32).to(device)\n",
    "        self.alpha = 1.0 - self.beta\n",
    "        self.alpha_bar = torch.cumprod(self.alpha, axis=0)\n",
    "\n",
    "        self.sqrt_alpha_bar = self.alpha_bar ** 0.5\n",
    "        self.sqrt_one_minus_alpha_bar = (1 - self.alpha_bar) ** 0.5\n",
    "\n",
    "    def forward_process(self, x0, t):\n",
    "        # Sample x_{t-1}, x_t given x_0\n",
    "        ## sample x_{t-1} conditional on x_0\n",
    "        noise = torch.randn(x0.shape).to(self.device)\n",
    "        s1 = self.sqrt_alpha_bar[t-1].reshape(-1,1,1,1)\n",
    "        s2 = self.sqrt_one_minus_alpha_bar[t-1].reshape(-1,1,1,1)\n",
    "        xt_1 = s1 * x0 + s2 * noise\n",
    "\n",
    "        ## sample x_t conditional on x_{t-1}\n",
    "        alpha_t = self.alpha[t].reshape(-1,1,1,1)\n",
    "        xt = torch.sqrt(alpha_t) * xt_1 + torch.sqrt(1 - alpha_t) * torch.randn_like(xt_1).to(self.device)\n",
    "\n",
    "        return xt_1, xt\n",
    "\n",
    "    def predict_next(self, xt, t):\n",
    "        # Compute mu(xt, t)\n",
    "        mu = self.model(xt, t)\n",
    "        return mu"
   ]
  },
  {
   "cell_type": "markdown",
   "metadata": {
    "id": "F2scp42Q7xjX"
   },
   "source": [
    "## 1. (d) Define the loss function "
   ]
  },
  {
   "cell_type": "markdown",
   "metadata": {
    "id": "0OvTN7A18Kiy"
   },
   "source": [
    "To reduce the variance of the estimate in the loss function, we can use a technique called importance sampling. Importance sampling involves sampling from a distribution that has a similar shape to the true distribution but with heavier tails, which helps to reduce the variance of the estimate. The parameter for exponential distribution is 0.03 here, tuned by myself. (I tried 1, 0.5, 0.1, 0.03, 0.01)"
   ]
  },
  {
   "cell_type": "code",
   "execution_count": 8,
   "metadata": {
    "id": "agx6RID18J8t"
   },
   "outputs": [],
   "source": [
    "import torch.distributions as D\n",
    "\n",
    "def loss_function_exp(diffusion, X_batch, device):\n",
    "    batch_size = len(X_batch)\n",
    "    n_steps = diffusion.n_steps\n",
    "\n",
    "    # Draw random time steps for all examples in the batch using exponential distribution\n",
    "    exponential_dist = D.Exponential(torch.tensor([0.03]))\n",
    "    t_batch = exponential_dist.sample((batch_size, 1)).long().to(device).view(-1,1)\n",
    "    t_batch = torch.clamp(t_batch, 0, n_steps-1)\n",
    "\n",
    "    # Perform forward diffusion process to sample Xtj-1 and Xtj\n",
    "    xtj_1, xtj = diffusion.forward_process(X_batch, t_batch)\n",
    "\n",
    "    # Predict the mean for all examples\n",
    "    mu_xtj_batch = diffusion.predict_next(xtj, t_batch)\n",
    "\n",
    "    # Calculate loss for all examples\n",
    "    alpha_t = diffusion.alpha[t_batch].view(batch_size, 1, 1, 1)\n",
    "    loss = torch.sum((xtj_1 - mu_xtj_batch) ** 2 / (2 * (1 - alpha_t))) / batch_size\n",
    "\n",
    "    return loss"
   ]
  },
  {
   "cell_type": "markdown",
   "metadata": {
    "id": "TQnR9Cwz8IsT"
   },
   "source": [
    "## 1. (e) Load MNIST data"
   ]
  },
  {
   "cell_type": "code",
   "execution_count": 12,
   "metadata": {
    "colab": {
     "base_uri": "https://localhost:8080/"
    },
    "id": "2fS0k_BEzMRo",
    "outputId": "f06bbd45-d431-4abe-b9a9-8b7a36bdec4b"
   },
   "outputs": [
    {
     "name": "stdout",
     "output_type": "stream",
     "text": [
      "<class 'numpy.ndarray'> (70000, 784)\n"
     ]
    }
   ],
   "source": [
    "data = np.float64(np.load('./data/MNIST_data.npy'))\n",
    "labels = np.float32(np.load('./data/MNIST_labels.npy'))\n",
    "print(type(data), data.shape)"
   ]
  },
  {
   "cell_type": "code",
   "execution_count": 24,
   "metadata": {
    "id": "x3UQ3J5xsr7r"
   },
   "outputs": [],
   "source": [
    "def get_mnist():\n",
    "    data = np.float64(np.load('./data/MNIST_data.npy'))\n",
    "    labels = np.float32(np.load('./data/MNIST_labels.npy'))\n",
    "    print(data.shape)\n",
    "    data = np.float32(data)/255.\n",
    "    train_dat = data[0:50000].reshape((-1,1,28,28))\n",
    "    train_labels = np.int32(labels[0:50000])\n",
    "    val_dat = data[50000:55000].reshape((-1,1,28,28))\n",
    "    val_labels = np.int32(labels[50000:55000])\n",
    "    test_dat = data[55000:70000].reshape((-1,1,28,28))\n",
    "    test_labels = np.int32(labels[55000:70000])\n",
    "\n",
    "    train_dataset = TensorDataset(torch.from_numpy(train_dat), torch.from_numpy(train_labels))\n",
    "    val_dataset = TensorDataset(torch.from_numpy(val_dat), torch.from_numpy(val_labels))\n",
    "    test_dataset = TensorDataset(torch.from_numpy(test_dat), torch.from_numpy(test_labels))\n",
    "\n",
    "    return train_dataset, val_dataset, test_dataset"
   ]
  },
  {
   "cell_type": "code",
   "execution_count": 25,
   "metadata": {
    "colab": {
     "base_uri": "https://localhost:8080/"
    },
    "id": "oyyx72KdtEV2",
    "outputId": "5ef1c207-956d-4537-bcc5-f69f3394f3ed"
   },
   "outputs": [
    {
     "name": "stdout",
     "output_type": "stream",
     "text": [
      "(70000, 784)\n"
     ]
    }
   ],
   "source": [
    "train_dataset, val_dataset, test_dataset = get_mnist()"
   ]
  },
  {
   "cell_type": "markdown",
   "metadata": {
    "id": "akx6bGog8nFD"
   },
   "source": [
    "## 1. (f) Training and validation"
   ]
  },
  {
   "cell_type": "markdown",
   "metadata": {
    "id": "kCq0g8LP8qKC"
   },
   "source": [
    "Set parameters"
   ]
  },
  {
   "cell_type": "code",
   "execution_count": 27,
   "metadata": {
    "id": "VH_HARtH8ok2"
   },
   "outputs": [],
   "source": [
    "T = 200\n",
    "learning_rate = 0.01\n",
    "initial_rho_lr = 0.2\n",
    "num_epochs = 60\n",
    "batch_size = 100\n",
    "min_beta = 0.0001\n",
    "max_beta = 0.1"
   ]
  },
  {
   "cell_type": "markdown",
   "metadata": {
    "id": "kZd_KRJN-sYk"
   },
   "source": [
    "Set data loader"
   ]
  },
  {
   "cell_type": "code",
   "execution_count": 28,
   "metadata": {
    "id": "DS4WKNhg-udg"
   },
   "outputs": [],
   "source": [
    "# Set data loaders\n",
    "train_loader = DataLoader(train_dataset, batch_size=batch_size)\n",
    "val_loader = DataLoader(val_dataset, batch_size=batch_size)\n",
    "test_loader = DataLoader(test_dataset, batch_size=batch_size)"
   ]
  },
  {
   "cell_type": "markdown",
   "metadata": {
    "id": "Z95UtKmT9DQk"
   },
   "source": [
    "Initialize ScoreNet and Diffusion, set optimizer and learning rate"
   ]
  },
  {
   "cell_type": "code",
   "execution_count": 29,
   "metadata": {
    "id": "5JeqbeL59A94"
   },
   "outputs": [],
   "source": [
    "score_net = ScoreNet().to(device)\n",
    "diffusion = Diffusion(score_net, T, device, min_beta, max_beta).to(device)"
   ]
  },
  {
   "cell_type": "code",
   "execution_count": 30,
   "metadata": {
    "id": "o9pGNs7CBzoV"
   },
   "outputs": [],
   "source": [
    "optimizer = optim.Adam([\n",
    "    {'params': list(score_net.parameters())[2:], 'lr': learning_rate},\n",
    "    {'params': [score_net.rho0, score_net.rho1], 'lr': initial_rho_lr}\n",
    "])\n",
    "\n",
    "scheduler = optim.lr_scheduler.StepLR(optimizer, step_size=20, gamma=0.1)"
   ]
  },
  {
   "cell_type": "markdown",
   "metadata": {
    "id": "9lZkIV---KjQ"
   },
   "source": [
    "Training"
   ]
  },
  {
   "cell_type": "code",
   "execution_count": 86,
   "metadata": {
    "colab": {
     "base_uri": "https://localhost:8080/"
    },
    "id": "NMaxwuTy-LUq",
    "outputId": "a7dc1fe2-8701-4a36-c460-c1e1c106a9c8"
   },
   "outputs": [
    {
     "name": "stdout",
     "output_type": "stream",
     "text": [
      "Epoch 1/60, Train Loss: 43751.41807, Valid Loss: 487.42702\n",
      "Epoch 2/60, Train Loss: 434.46219, Valid Loss: 407.20177\n",
      "Epoch 3/60, Train Loss: 397.91358, Valid Loss: 392.70797\n",
      "Epoch 4/60, Train Loss: 391.10446, Valid Loss: 389.18448\n",
      "Epoch 5/60, Train Loss: 389.30843, Valid Loss: 388.91347\n",
      "Epoch 6/60, Train Loss: 388.27619, Valid Loss: 387.79373\n",
      "Epoch 7/60, Train Loss: 386.68903, Valid Loss: 385.61799\n",
      "Epoch 8/60, Train Loss: 385.04798, Valid Loss: 384.43518\n",
      "Epoch 9/60, Train Loss: 383.46145, Valid Loss: 383.02904\n",
      "Epoch 10/60, Train Loss: 381.99937, Valid Loss: 381.15633\n",
      "Epoch 11/60, Train Loss: 380.18083, Valid Loss: 379.45584\n",
      "Epoch 12/60, Train Loss: 377.57956, Valid Loss: 376.15013\n",
      "Epoch 13/60, Train Loss: 373.72428, Valid Loss: 371.88723\n",
      "Epoch 14/60, Train Loss: 371.66042, Valid Loss: 370.13821\n",
      "Epoch 15/60, Train Loss: 368.79160, Valid Loss: 367.06022\n",
      "Epoch 16/60, Train Loss: 366.75787, Valid Loss: 366.71679\n",
      "Epoch 17/60, Train Loss: 366.57598, Valid Loss: 365.49235\n",
      "Epoch 18/60, Train Loss: 365.46448, Valid Loss: 365.09860\n",
      "Epoch 19/60, Train Loss: 366.14959, Valid Loss: 366.37565\n",
      "Epoch 20/60, Train Loss: 366.45868, Valid Loss: 362.60395\n",
      "Epoch 21/60, Train Loss: 362.53825, Valid Loss: 361.33581\n",
      "Epoch 22/60, Train Loss: 361.41546, Valid Loss: 360.68621\n",
      "Epoch 23/60, Train Loss: 361.21271, Valid Loss: 360.49322\n",
      "Epoch 24/60, Train Loss: 360.65677, Valid Loss: 359.86513\n",
      "Epoch 25/60, Train Loss: 360.90201, Valid Loss: 360.57849\n",
      "Epoch 26/60, Train Loss: 360.48251, Valid Loss: 359.56123\n",
      "Epoch 27/60, Train Loss: 359.64537, Valid Loss: 358.73148\n",
      "Epoch 28/60, Train Loss: 359.14744, Valid Loss: 359.50661\n",
      "Epoch 29/60, Train Loss: 358.44116, Valid Loss: 357.05107\n",
      "Epoch 30/60, Train Loss: 357.60508, Valid Loss: 357.35545\n",
      "Epoch 31/60, Train Loss: 357.62230, Valid Loss: 358.35145\n",
      "Epoch 32/60, Train Loss: 355.67607, Valid Loss: 355.54606\n",
      "Epoch 33/60, Train Loss: 355.82048, Valid Loss: 354.49665\n",
      "Epoch 34/60, Train Loss: 354.98295, Valid Loss: 356.25707\n",
      "Epoch 35/60, Train Loss: 354.73611, Valid Loss: 353.20780\n",
      "Epoch 36/60, Train Loss: 358.29224, Valid Loss: 353.68335\n",
      "Epoch 37/60, Train Loss: 353.05857, Valid Loss: 353.21995\n",
      "Epoch 38/60, Train Loss: 353.03083, Valid Loss: 352.80057\n",
      "Epoch 39/60, Train Loss: 353.65039, Valid Loss: 353.35785\n",
      "Epoch 40/60, Train Loss: 354.45644, Valid Loss: 353.08780\n",
      "Epoch 41/60, Train Loss: 350.50781, Valid Loss: 348.65147\n",
      "Epoch 42/60, Train Loss: 349.49186, Valid Loss: 348.47087\n",
      "Epoch 43/60, Train Loss: 349.17979, Valid Loss: 348.44640\n",
      "Epoch 44/60, Train Loss: 348.60996, Valid Loss: 347.65247\n",
      "Epoch 45/60, Train Loss: 347.93685, Valid Loss: 349.01909\n",
      "Epoch 46/60, Train Loss: 347.82393, Valid Loss: 347.15036\n",
      "Epoch 47/60, Train Loss: 347.78480, Valid Loss: 347.31680\n",
      "Epoch 48/60, Train Loss: 347.30315, Valid Loss: 348.09686\n",
      "Epoch 49/60, Train Loss: 346.94194, Valid Loss: 347.01494\n",
      "Epoch 50/60, Train Loss: 346.70728, Valid Loss: 346.63234\n",
      "Epoch 51/60, Train Loss: 346.86411, Valid Loss: 345.40074\n",
      "Epoch 52/60, Train Loss: 346.18243, Valid Loss: 346.85225\n",
      "Epoch 53/60, Train Loss: 346.14839, Valid Loss: 346.47463\n",
      "Epoch 54/60, Train Loss: 346.30535, Valid Loss: 345.52942\n",
      "Epoch 55/60, Train Loss: 346.03034, Valid Loss: 346.34812\n",
      "Epoch 56/60, Train Loss: 346.57867, Valid Loss: 345.33935\n",
      "Epoch 57/60, Train Loss: 346.07327, Valid Loss: 346.06955\n",
      "Epoch 58/60, Train Loss: 346.23143, Valid Loss: 345.67585\n",
      "Epoch 59/60, Train Loss: 345.57745, Valid Loss: 344.71771\n",
      "Epoch 60/60, Train Loss: 345.96409, Valid Loss: 345.98999\n"
     ]
    }
   ],
   "source": [
    "for epoch in range(num_epochs):\n",
    "    score_net.train()\n",
    "\n",
    "    train_loss = 0.0\n",
    "    for batch_idx, (X_batch, target) in enumerate(train_loader):\n",
    "        X_batch = X_batch.to(device)\n",
    "\n",
    "        loss = loss_function_exp(diffusion, X_batch, device)\n",
    "\n",
    "        optimizer.zero_grad()\n",
    "        loss.backward()\n",
    "        optimizer.step()\n",
    "\n",
    "        train_loss += loss.item() * X_batch.size(0)\n",
    "\n",
    "    train_loss /= len(train_loader.dataset)\n",
    "\n",
    "    # Validate the model\n",
    "    score_net.eval()\n",
    "\n",
    "    valid_loss = 0.0\n",
    "    with torch.no_grad():\n",
    "        for X_batch, _ in val_loader:\n",
    "            X_batch = X_batch.to(device)\n",
    "\n",
    "            loss = loss_function_exp(diffusion, X_batch, device)\n",
    "            valid_loss += loss.item() * X_batch.size(0)\n",
    "\n",
    "    valid_loss /= len(val_loader.dataset)\n",
    "\n",
    "    print(f'Epoch {epoch+1}/{num_epochs}, Train Loss: {train_loss:.5f}, Valid Loss: {valid_loss:.5f}')\n",
    "\n",
    "    scheduler.step()"
   ]
  },
  {
   "cell_type": "markdown",
   "metadata": {
    "id": "q2nNEVCJHSRs"
   },
   "source": [
    "save the model"
   ]
  },
  {
   "cell_type": "code",
   "execution_count": 87,
   "metadata": {
    "id": "Q676GioMHRNp"
   },
   "outputs": [],
   "source": [
    "torch.save(score_net.state_dict(), '/score_net_exploss003.pt')\n",
    "torch.save(diffusion.state_dict(), '/diffusion_exploss003.pt')"
   ]
  },
  {
   "cell_type": "markdown",
   "metadata": {
    "id": "PyWOKuwCFibP"
   },
   "source": [
    "## 1. (g) Define a function to sample image"
   ]
  },
  {
   "cell_type": "markdown",
   "metadata": {
    "id": "vPoN26qdIM0W"
   },
   "source": [
    "load the model back"
   ]
  },
  {
   "cell_type": "code",
   "execution_count": 75,
   "metadata": {
    "colab": {
     "base_uri": "https://localhost:8080/"
    },
    "id": "EDoeEH7QIMac",
    "outputId": "187ff033-6153-44b8-b591-c5710965f213"
   },
   "outputs": [
    {
     "data": {
      "text/plain": [
       "<All keys matched successfully>"
      ]
     },
     "execution_count": 75,
     "metadata": {},
     "output_type": "execute_result"
    }
   ],
   "source": [
    "score_net = ScoreNet().to(device)\n",
    "score_net.load_state_dict(torch.load('/score_net_exploss003.pt'))\n",
    "diffusion = Diffusion(score_net, T, device, min_beta, max_beta).to(device)\n",
    "diffusion.load_state_dict(torch.load('/diffusion_exploss003.pt'))"
   ]
  },
  {
   "cell_type": "code",
   "execution_count": 71,
   "metadata": {
    "id": "keRnPPl1Fjun"
   },
   "outputs": [],
   "source": [
    "def sample_from_model(score_net, diffusion, device, sample_size=1):\n",
    "    with torch.no_grad():\n",
    "        x_sample = torch.randn((sample_size, 1, 28, 28), device=device)\n",
    "\n",
    "        for t in range(diffusion.n_steps - 1, 0, -1):\n",
    "            t_tensor = torch.tensor([t], dtype=torch.float32, device=device).repeat(x_sample.shape[0], 1)\n",
    "            mean = diffusion.predict_next(x_sample, t)\n",
    "            noise = torch.randn_like(x_sample).to(device)\n",
    "            x_sample = mean + (1.0 - diffusion.alpha[t]) ** 0.5 * noise\n",
    "\n",
    "    return x_sample"
   ]
  },
  {
   "cell_type": "markdown",
   "metadata": {
    "id": "sFIR0AQvGicG"
   },
   "source": [
    "## 1. (h) Sample 1000 samples and graph 20 samples"
   ]
  },
  {
   "cell_type": "code",
   "execution_count": 147,
   "metadata": {
    "id": "lou-5E7iK4KM"
   },
   "outputs": [],
   "source": [
    "sampled_images = sample_from_model(score_net, diffusion, device, sample_size=1000)"
   ]
  },
  {
   "cell_type": "code",
   "execution_count": null,
   "metadata": {
    "colab": {
     "base_uri": "https://localhost:8080/",
     "height": 721
    },
    "id": "FH9gjt--2lvJ",
    "outputId": "d7ccf0ac-5d4a-47dc-d71f-1e126a4d99ae"
   },
   "outputs": [
    {
     "data": {
      "image/png": "[encoded data removed]",
      "text/plain": [
       "<Figure size 1000x1000 with 20 Axes>"
      ]
     },
     "metadata": {},
     "output_type": "display_data"
    }
   ],
   "source": [
    "fig, axes = plt.subplots(4, 5, figsize=(10, 10))\n",
    "for i, ax in enumerate(axes.flat):\n",
    "    ax.imshow(sampled_images.cpu().detach().numpy()[i, 0], cmap='gray')\n",
    "    ax.axis('off')\n",
    "plt.show()"
   ]
  },
  {
   "cell_type": "markdown",
   "metadata": {},
   "source": [
    "The results are somehow the handwritten digits, but not well. "
   ]
  },
  {
   "cell_type": "markdown",
   "metadata": {
    "id": "MWE5AA9JTpsY"
   },
   "source": [
    "Calculate FID score to compare with the real handwritten digits from train data. "
   ]
  },
  {
   "cell_type": "code",
   "execution_count": 123,
   "metadata": {
    "id": "-xcO_-GOO3DO"
   },
   "outputs": [],
   "source": [
    "def calculate_fid_score(real_samples, generated_samples, eps=1e-4):\n",
    "    real_samples = real_samples.cpu().detach().numpy()\n",
    "    generated_samples = generated_samples.cpu().detach().numpy()\n",
    "\n",
    "    mu_real = np.mean(real_samples, axis=0)\n",
    "    mu_generated = np.mean(generated_samples, axis=0)\n",
    "\n",
    "    cov_real = np.cov(real_samples[0][0], rowvar=False)\n",
    "    cov_generated = np.cov(generated_samples[0][0], rowvar=False)\n",
    "\n",
    "    # Add a small epsilon to the diagonal of covariance matrices to ensure they are positive definite\n",
    "    cov_real += np.eye(cov_real.shape[0]) * eps\n",
    "    cov_generated += np.eye(cov_generated.shape[0]) * eps\n",
    "\n",
    "    mean_diff = mu_real - mu_generated\n",
    "    mean_diff_squared = np.sum(mean_diff ** 2)\n",
    "\n",
    "    cov_sqrt = np.sqrt(np.dot(cov_real, cov_generated))\n",
    "\n",
    "    # If there are NaNs in the result, add a larger epsilon and recompute\n",
    "    if np.isnan(cov_sqrt).any():\n",
    "        cov_real += np.eye(cov_real.shape[0]) * 10 * eps\n",
    "        cov_generated += np.eye(cov_generated.shape[0]) * 10 * eps\n",
    "        cov_sqrt = np.sqrt(np.dot(cov_real, cov_generated))\n",
    "\n",
    "    fid = mean_diff_squared + np.trace(cov_real) + np.trace(cov_generated) - 2 * np.trace(cov_sqrt)\n",
    "    return fid"
   ]
  },
  {
   "cell_type": "code",
   "execution_count": 143,
   "metadata": {
    "id": "oy6PUQNqUvFH"
   },
   "outputs": [],
   "source": [
    "real_images = []\n",
    "for batch, _ in train_loader:\n",
    "    real_images.append(batch)\n",
    "real_images = torch.cat(real_images)[1500:2500]"
   ]
  },
  {
   "cell_type": "code",
   "execution_count": 148,
   "metadata": {
    "colab": {
     "base_uri": "https://localhost:8080/"
    },
    "id": "jIObx4ZfSDpF",
    "outputId": "e2197200-5dd1-4ef4-e979-2886bd9a2044"
   },
   "outputs": [
    {
     "data": {
      "text/plain": [
       "1.783533164671161"
      ]
     },
     "execution_count": 148,
     "metadata": {},
     "output_type": "execute_result"
    }
   ],
   "source": [
    "calculate_fid_score(real_images, sampled_images, eps=1e-5)"
   ]
  },
  {
   "cell_type": "markdown",
   "metadata": {},
   "source": [
    "# Part 2. \n",
    "\n",
    "We will start working with the loss for error."
   ]
  },
  {
   "cell_type": "markdown",
   "metadata": {
    "id": "b-UInORF1eAD"
   },
   "source": [
    "## 2. (a) Define the Unet model"
   ]
  },
  {
   "cell_type": "markdown",
   "metadata": {
    "id": "PboDzpu_x52q"
   },
   "source": [
    "However, this time don't need to have $\\rho_1$ and $\\rho_2$ in the model to tune. "
   ]
  },
  {
   "cell_type": "code",
   "execution_count": 15,
   "metadata": {
    "id": "4_9RWKbA1fMf"
   },
   "outputs": [],
   "source": [
    "class ScoreNet(nn.Module):\n",
    "# A time-dependent score-based model with conditional mean computation.\"\"\"\n",
    "\n",
    "    def __init__(self, channels=[32, 64, 128, 256], embed_dim=256, group_num=4):\n",
    "\n",
    "        super().__init__()\n",
    "\n",
    "        self.embed = nn.Sequential(GaussianFourierProjection(embed_dim=embed_dim),\n",
    "             nn.Linear(embed_dim, embed_dim))\n",
    "\n",
    "        self.conv1 = nn.Conv2d(1, channels[0], 3, stride=1, bias=False)\n",
    "        self.dense1 = Dense(embed_dim, channels[0])\n",
    "        self.gnorm1 = nn.GroupNorm(group_num, num_channels=channels[0])\n",
    "        self.conv2 = nn.Conv2d(channels[0], channels[1], 3, stride=2, bias=False)\n",
    "        self.dense2 = Dense(embed_dim, channels[1])\n",
    "        self.gnorm2 = nn.GroupNorm(group_num, num_channels=channels[1])\n",
    "        self.conv3 = nn.Conv2d(channels[1], channels[2], 3, stride=2, bias=False)\n",
    "        self.dense3 = Dense(embed_dim, channels[2])\n",
    "        self.gnorm3 = nn.GroupNorm(group_num, num_channels=channels[2])\n",
    "\n",
    "        self.conv4 = nn.Conv2d(channels[2], channels[3], 3, stride=2, bias=False)\n",
    "        self.dense4 = Dense(embed_dim, channels[3])\n",
    "        self.gnorm4 = nn.GroupNorm(group_num, num_channels=channels[3])\n",
    "        self.tconv4 = nn.ConvTranspose2d(channels[3], channels[2], 3, stride=2, bias=False)\n",
    "        self.dense5 = Dense(embed_dim, channels[2])\n",
    "        self.tgnorm4 = nn.GroupNorm(group_num, num_channels=channels[2])\n",
    "        self.tconv3 = nn.ConvTranspose2d(channels[2] + channels[2], channels[1], 3, stride=2, bias=False, output_padding=1)\n",
    "        self.dense6 = Dense(embed_dim, channels[1])\n",
    "        self.tgnorm3 = nn.GroupNorm(group_num, num_channels=channels[1])\n",
    "        self.tconv2 = nn.ConvTranspose2d(channels[1] + channels[1], channels[0], 3, stride=2, bias=False, output_padding=1)\n",
    "        self.dense7 = Dense(embed_dim, channels[0])\n",
    "        self.tgnorm2 = nn.GroupNorm(group_num, num_channels=channels[0])\n",
    "        self.tconv1 = nn.ConvTranspose2d(channels[0] + channels[0], 1, 3, stride=1)\n",
    "\n",
    "        # The swish activation function\n",
    "        self.act = lambda x: x * torch.sigmoid(x)\n",
    "\n",
    "    def forward(self, x, t):\n",
    "        # Obtain the Gaussian random feature embedding for t\n",
    "        embed = self.act(self.embed(t))\n",
    "\n",
    "        h1 = self.conv1(x)\n",
    "        h1 += self.dense1(embed)\n",
    "        h1 = self.gnorm1(h1)\n",
    "        h1 = self.act(h1)\n",
    "\n",
    "        h2 = self.conv2(h1)\n",
    "        h2 += self.dense2(embed)\n",
    "        h2 = self.gnorm2(h2)\n",
    "        h2 = self.act(h2)\n",
    "\n",
    "        h3 = self.conv3(h2)\n",
    "        h3 += self.dense3(embed)\n",
    "        h3 = self.gnorm3(h3)\n",
    "        h3 = self.act(h3)\n",
    "\n",
    "        h4 = self.conv4(h3)\n",
    "        h4 += self.dense4(embed)\n",
    "        h4 = self.gnorm4(h4)\n",
    "        h4 = self.act(h4)\n",
    "\n",
    "        h = self.tconv4(h4)\n",
    "        h += self.dense5(embed)\n",
    "        h = self.tgnorm4(h)\n",
    "        h = self.act(h)\n",
    "\n",
    "        h = self.tconv3(torch.cat([h, h3], dim=1))\n",
    "        h += self.dense6(embed)\n",
    "        h = self.tgnorm3(h)\n",
    "        h = self.act(h)\n",
    "\n",
    "        h = self.tconv2(torch.cat([h, h2], dim=1))\n",
    "        h += self.dense7(embed)\n",
    "        h = self.tgnorm2(h)\n",
    "        h = self.act(h)\n",
    "\n",
    "        h = self.tconv1(torch.cat([h, h1], dim=1))\n",
    "\n",
    "        return h"
   ]
  },
  {
   "cell_type": "markdown",
   "metadata": {
    "id": "ZEqcnce5X6n6"
   },
   "source": [
    "Define the loss, here the parameter of exponential distribution is 0.03, which is also tuned by myself."
   ]
  },
  {
   "cell_type": "code",
   "execution_count": 16,
   "metadata": {
    "id": "7169nsgTXz5e"
   },
   "outputs": [],
   "source": [
    "def loss_function_epsilon(diffusion, X_batch, device):\n",
    "    batch_size = len(X_batch)\n",
    "    n_steps = diffusion.n_steps\n",
    "\n",
    "    # Draw random time steps for all examples in the batch using exponential distribution\n",
    "    exponential_dist = D.Exponential(torch.tensor([0.03]))\n",
    "    t_batch = exponential_dist.sample((batch_size, 1)).long().to(device).view(-1,1)\n",
    "    t_batch = torch.clamp(t_batch, 0, n_steps-1)\n",
    "\n",
    "    # Draw random vector j from N(0,I)\n",
    "    noisej = torch.randn(X_batch.shape, device=device)\n",
    "\n",
    "    # Produce Xtj\n",
    "    xtj = diffusion.alpha_bar[t_batch].view(-1, 1, 1, 1) * X_batch + diffusion.sqrt_one_minus_alpha_bar[t_batch].view(-1, 1, 1, 1) * noisej\n",
    "\n",
    "    # Run through the model\n",
    "    e = diffusion.predict_next(xtj, t_batch)\n",
    "\n",
    "    # Calculate loss\n",
    "    loss = torch.sum((noisej - e) ** 2) / batch_size\n",
    "\n",
    "    return loss"
   ]
  },
  {
   "cell_type": "markdown",
   "metadata": {
    "id": "LQeQ0tpFZip4"
   },
   "source": [
    "## 2. (b) Training and Validation"
   ]
  },
  {
   "cell_type": "markdown",
   "metadata": {
    "id": "XeRwohRVZYWS"
   },
   "source": [
    "Initialize ScoreNet and Diffusion, set optimizer and learning rate"
   ]
  },
  {
   "cell_type": "code",
   "execution_count": 17,
   "metadata": {
    "id": "Yek9e_HeZYWS"
   },
   "outputs": [],
   "source": [
    "score_net = ScoreNet().to(device)\n",
    "diffusion = Diffusion(score_net, T, device, min_beta, max_beta).to(device)"
   ]
  },
  {
   "cell_type": "code",
   "execution_count": 18,
   "metadata": {
    "id": "ADxABuuTZYWS"
   },
   "outputs": [],
   "source": [
    "optimizer = optim.Adam([\n",
    "    {'params': list(score_net.parameters()), 'lr': learning_rate},\n",
    "])\n",
    "\n",
    "scheduler = optim.lr_scheduler.StepLR(optimizer, step_size=20, gamma=0.1)"
   ]
  },
  {
   "cell_type": "markdown",
   "metadata": {
    "id": "VaRDKJd_ZYWS"
   },
   "source": [
    "Training"
   ]
  },
  {
   "cell_type": "code",
   "execution_count": 19,
   "metadata": {
    "colab": {
     "base_uri": "https://localhost:8080/"
    },
    "id": "tFHoub_vZYWT",
    "outputId": "0d838a63-d8b7-410e-d81c-cc57dccaf6e0"
   },
   "outputs": [
    {
     "name": "stdout",
     "output_type": "stream",
     "text": [
      "Epoch 1/60, Train Loss: 389.56865, Valid Loss: 218.62305\n",
      "Epoch 2/60, Train Loss: 189.83811, Valid Loss: 152.70160\n",
      "Epoch 3/60, Train Loss: 122.50661, Valid Loss: 92.95112\n",
      "Epoch 4/60, Train Loss: 91.47715, Valid Loss: 86.92159\n",
      "Epoch 5/60, Train Loss: 79.78399, Valid Loss: 76.83028\n",
      "Epoch 6/60, Train Loss: 73.26122, Valid Loss: 69.01616\n",
      "Epoch 7/60, Train Loss: 71.03543, Valid Loss: 65.53199\n",
      "Epoch 8/60, Train Loss: 71.07828, Valid Loss: 67.56586\n",
      "Epoch 9/60, Train Loss: 64.59223, Valid Loss: 60.70384\n",
      "Epoch 10/60, Train Loss: 61.77374, Valid Loss: 59.66210\n",
      "Epoch 11/60, Train Loss: 59.33579, Valid Loss: 56.92474\n",
      "Epoch 12/60, Train Loss: 57.39046, Valid Loss: 57.21599\n",
      "Epoch 13/60, Train Loss: 55.55547, Valid Loss: 54.65063\n",
      "Epoch 14/60, Train Loss: 53.74620, Valid Loss: 54.15612\n",
      "Epoch 15/60, Train Loss: 138.63217, Valid Loss: 266.14948\n",
      "Epoch 16/60, Train Loss: 229.70191, Valid Loss: 183.83542\n",
      "Epoch 17/60, Train Loss: 153.30336, Valid Loss: 114.50527\n",
      "Epoch 18/60, Train Loss: 108.36128, Valid Loss: 97.80456\n",
      "Epoch 19/60, Train Loss: 92.75363, Valid Loss: 80.14296\n",
      "Epoch 20/60, Train Loss: 80.86619, Valid Loss: 79.31752\n",
      "Epoch 21/60, Train Loss: 73.04524, Valid Loss: 70.68658\n",
      "Epoch 22/60, Train Loss: 71.13811, Valid Loss: 69.15265\n",
      "Epoch 23/60, Train Loss: 69.10127, Valid Loss: 70.49187\n",
      "Epoch 24/60, Train Loss: 65.75438, Valid Loss: 62.44284\n",
      "Epoch 25/60, Train Loss: 61.61029, Valid Loss: 60.02277\n",
      "Epoch 26/60, Train Loss: 57.08961, Valid Loss: 56.07178\n",
      "Epoch 27/60, Train Loss: 54.28878, Valid Loss: 51.71659\n",
      "Epoch 28/60, Train Loss: 52.91773, Valid Loss: 53.06777\n",
      "Epoch 29/60, Train Loss: 51.82759, Valid Loss: 50.72256\n",
      "Epoch 30/60, Train Loss: 50.95882, Valid Loss: 49.97298\n",
      "Epoch 31/60, Train Loss: 50.46967, Valid Loss: 48.39776\n",
      "Epoch 32/60, Train Loss: 49.69749, Valid Loss: 48.38811\n",
      "Epoch 33/60, Train Loss: 49.34567, Valid Loss: 49.27316\n",
      "Epoch 34/60, Train Loss: 48.43720, Valid Loss: 48.43590\n",
      "Epoch 35/60, Train Loss: 47.91558, Valid Loss: 46.36616\n",
      "Epoch 36/60, Train Loss: 47.27672, Valid Loss: 45.82726\n",
      "Epoch 37/60, Train Loss: 46.93729, Valid Loss: 46.48534\n",
      "Epoch 38/60, Train Loss: 46.67605, Valid Loss: 46.22376\n",
      "Epoch 39/60, Train Loss: 46.79364, Valid Loss: 46.61359\n",
      "Epoch 40/60, Train Loss: 46.22576, Valid Loss: 45.49476\n",
      "Epoch 41/60, Train Loss: 44.94471, Valid Loss: 44.53957\n",
      "Epoch 42/60, Train Loss: 45.00544, Valid Loss: 44.38020\n",
      "Epoch 43/60, Train Loss: 44.87036, Valid Loss: 45.26991\n",
      "Epoch 44/60, Train Loss: 44.95318, Valid Loss: 43.48838\n",
      "Epoch 45/60, Train Loss: 44.72290, Valid Loss: 44.26490\n",
      "Epoch 46/60, Train Loss: 44.29418, Valid Loss: 44.01102\n",
      "Epoch 47/60, Train Loss: 44.49174, Valid Loss: 44.53685\n",
      "Epoch 48/60, Train Loss: 44.48351, Valid Loss: 43.56530\n",
      "Epoch 49/60, Train Loss: 44.35492, Valid Loss: 43.37959\n",
      "Epoch 50/60, Train Loss: 44.23233, Valid Loss: 44.11654\n",
      "Epoch 51/60, Train Loss: 44.74896, Valid Loss: 43.62930\n",
      "Epoch 52/60, Train Loss: 44.29196, Valid Loss: 43.31562\n",
      "Epoch 53/60, Train Loss: 44.41399, Valid Loss: 43.64424\n",
      "Epoch 54/60, Train Loss: 44.36362, Valid Loss: 43.83883\n",
      "Epoch 55/60, Train Loss: 44.48986, Valid Loss: 44.11176\n",
      "Epoch 56/60, Train Loss: 44.50177, Valid Loss: 43.20951\n",
      "Epoch 57/60, Train Loss: 43.96841, Valid Loss: 43.79076\n",
      "Epoch 58/60, Train Loss: 44.05298, Valid Loss: 44.21606\n",
      "Epoch 59/60, Train Loss: 44.13419, Valid Loss: 43.60849\n",
      "Epoch 60/60, Train Loss: 44.11785, Valid Loss: 43.65114\n"
     ]
    }
   ],
   "source": [
    "for epoch in range(num_epochs):\n",
    "    score_net.train()\n",
    "\n",
    "    train_loss = 0.0\n",
    "    for batch_idx, (X_batch, target) in enumerate(train_loader):\n",
    "        X_batch = X_batch.to(device)\n",
    "\n",
    "        loss = loss_function_epsilon(diffusion, X_batch, device)\n",
    "\n",
    "        optimizer.zero_grad()\n",
    "        loss.backward()\n",
    "        optimizer.step()\n",
    "\n",
    "        train_loss += loss.item() * X_batch.size(0)\n",
    "\n",
    "\n",
    "    train_loss /= len(train_loader.dataset)\n",
    "\n",
    "    # Validate the model\n",
    "    score_net.eval()\n",
    "\n",
    "    valid_loss = 0.0\n",
    "    with torch.no_grad():\n",
    "        for X_batch, _ in val_loader:\n",
    "            X_batch = X_batch.to(device)\n",
    "\n",
    "            loss = loss_function_epsilon(diffusion, X_batch, device)\n",
    "            valid_loss += loss.item() * X_batch.size(0)\n",
    "\n",
    "    valid_loss /= len(val_loader.dataset)\n",
    "\n",
    "    print(f'Epoch {epoch+1}/{num_epochs}, Train Loss: {train_loss:.5f}, Valid Loss: {valid_loss:.5f}')\n",
    "\n",
    "    scheduler.step()"
   ]
  },
  {
   "cell_type": "markdown",
   "metadata": {
    "id": "wRUfY5d4aTLr"
   },
   "source": [
    "## 2. (c) Sample images and compare with real images"
   ]
  },
  {
   "cell_type": "code",
   "execution_count": 20,
   "metadata": {
    "id": "rUsmtyxDqMa9"
   },
   "outputs": [],
   "source": [
    "def sample_from_model_2(score_net, diffusion, device, sample_size=1):\n",
    "    with torch.no_grad():\n",
    "        x_sample = torch.randn((sample_size, 1, 28, 28), device=device)\n",
    "\n",
    "        for t in range(diffusion.n_steps - 1, 0, -1):\n",
    "            noise = diffusion.predict_next(x_sample, t)\n",
    "            mean = (x_sample - (1-diffusion.alpha[t])*noise / (diffusion.sqrt_one_minus_alpha_bar[t])) / torch.sqrt(diffusion.alpha[t])\n",
    "            z = torch.randn((sample_size, 1, 28, 28), device=device)\n",
    "            x_sample = mean + (1.0 - diffusion.alpha[t]) ** 0.5 * z\n",
    "\n",
    "    return x_sample"
   ]
  },
  {
   "cell_type": "markdown",
   "metadata": {
    "id": "Re_h4iwbc3hy"
   },
   "source": [
    "Sample 1000 samples and graph 20 samples"
   ]
  },
  {
   "cell_type": "code",
   "execution_count": 21,
   "metadata": {
    "id": "5GcUkA2Mc3hz"
   },
   "outputs": [],
   "source": [
    "sampled_images_2 = sample_from_model_2(score_net, diffusion, device, sample_size=1000)"
   ]
  },
  {
   "cell_type": "code",
   "execution_count": 22,
   "metadata": {
    "colab": {
     "base_uri": "https://localhost:8080/",
     "height": 773
    },
    "id": "2tNG8yG5pZvP",
    "outputId": "3925db73-420d-435f-8435-8dfcb62b92be"
   },
   "outputs": [
    {
     "data": {
      "image/png": "[encoded data removed]",
      "text/plain": [
       "<Figure size 1000x1000 with 20 Axes>"
      ]
     },
     "metadata": {},
     "output_type": "display_data"
    }
   ],
   "source": [
    "fig, axes = plt.subplots(4, 5, figsize=(10, 10))\n",
    "for i, ax in enumerate(axes.flat):\n",
    "    ax.imshow(sampled_images_2.cpu().detach().numpy()[i, 0], cmap='gray')\n",
    "    ax.axis('off')\n",
    "plt.show()"
   ]
  },
  {
   "cell_type": "markdown",
   "metadata": {},
   "source": [
    "This time is more like handwritten digits. "
   ]
  },
  {
   "cell_type": "markdown",
   "metadata": {
    "id": "mre2wb6KrjZB"
   },
   "source": [
    "Calculate FID score"
   ]
  },
  {
   "cell_type": "code",
   "execution_count": 145,
   "metadata": {
    "colab": {
     "base_uri": "https://localhost:8080/"
    },
    "id": "HWlkSEO_rjZC",
    "outputId": "57f09acf-22b9-4977-a48f-483da2dfdc1c"
   },
   "outputs": [
    {
     "data": {
      "text/plain": [
       "9.564604305921785"
      ]
     },
     "execution_count": 145,
     "metadata": {},
     "output_type": "execute_result"
    }
   ],
   "source": [
    "calculate_fid_score(real_images, sampled_images_2, eps=1e-5)"
   ]
  },
  {
   "cell_type": "markdown",
   "metadata": {
    "id": "GByoZoU5dQYU"
   },
   "source": [
    "save the model"
   ]
  },
  {
   "cell_type": "code",
   "execution_count": 109,
   "metadata": {
    "id": "Tmi7a81Ml78x"
   },
   "outputs": [],
   "source": [
    "torch.save(score_net.state_dict(), '/score_net_2_exploss003.pt')\n",
    "torch.save(diffusion.state_dict(), '/diffusion_2_exploss003.pt')"
   ]
  },
  {
   "cell_type": "markdown",
   "metadata": {
    "id": "uaCDe_hQdQYU"
   },
   "source": [
    "load the model back"
   ]
  },
  {
   "cell_type": "code",
   "execution_count": null,
   "metadata": {
    "colab": {
     "base_uri": "https://localhost:8080/"
    },
    "id": "tcttxPP8l78y",
    "outputId": "14632dc6-9838-4a47-ad92-8cb763af372a"
   },
   "outputs": [
    {
     "data": {
      "text/plain": [
       "<All keys matched successfully>"
      ]
     },
     "execution_count": 56,
     "metadata": {},
     "output_type": "execute_result"
    }
   ],
   "source": [
    "score_net = ScoreNet().to(device)\n",
    "score_net.load_state_dict(torch.load('/score_net_2_exploss003.pt'))\n",
    "diffusion = Diffusion(score_net, T, device, min_beta, max_beta).to(device)\n",
    "diffusion.load_state_dict(torch.load('/diffusion_2_exploss003.pt'))"
   ]
  },
  {
   "cell_type": "markdown",
   "metadata": {
    "id": "9Y-XEDXYax8v"
   },
   "source": [
    "## 3. Comparisons"
   ]
  },
  {
   "cell_type": "markdown",
   "metadata": {
    "id": "2kwS6uYLd7o0"
   },
   "source": [
    "In Part 1, the model is used to directly model the conditional mean\n",
    "$\\mu(x_t,t;\\theta)$ given the input and time step. This means the model learns to predict the mean of the next state given the current state and the time step.\n",
    "\n",
    "In Part 2, the model is used to directly model the error term $e(x_t,t;\\theta)$ given the input and time step. This means the model learns to predict the error term that is added to the current state to generate the next state according to the diffusion process.\n",
    "\n",
    "Observable differences between the two versions include:\n",
    "\n",
    "- Model Output: In Part 1, the model outputs the conditional mean, while in Part 2, the model outputs the error term.\n",
    "\n",
    "- Sampling Process: In Part 1, the sampling process involves generating samples based on the predicted mean and adding noise according to the diffusion process. In Part 2, the sampling process involves generating samples based on the predicted error term and adding noise according to the diffusion process.\n",
    "\n",
    "- Loss Function: The loss function used for training differs between the two versions. In Part 1, the loss function is based on the squared difference between the predicted mean and the ground truth next state. In Part 2, the loss function is based on the squared difference between the predicted error term and the actual error term generated during the diffusion process.\n",
    "\n",
    "- Sample Images: From the trained models in two problems, we can observe somehow handwritten digits, but we got more clear image in error model."
   ]
  }
 ],
 "metadata": {
  "accelerator": "GPU",
  "colab": {
   "gpuType": "T4",
   "provenance": []
  },
  "kernelspec": {
   "display_name": "Python 3",
   "language": "python",
   "name": "python3"
  },
  "language_info": {
   "codemirror_mode": {
    "name": "ipython",
    "version": 3
   },
   "file_extension": ".py",
   "mimetype": "text/x-python",
   "name": "python",
   "nbconvert_exporter": "python",
   "pygments_lexer": "ipython3",
   "version": "3.8.5"
  }
 },
 "nbformat": 4,
 "nbformat_minor": 1
}
